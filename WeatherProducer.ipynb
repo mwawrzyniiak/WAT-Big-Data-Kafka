{
 "cells": [
  {
   "cell_type": "code",
   "execution_count": null,
   "metadata": {},
   "outputs": [
    {
     "name": "stdout",
     "output_type": "stream",
     "text": [
      "Row: Value = 287.07|283.38 ||| kay = Warsaw ||| timestamp = 1590344108000\n",
      "Row: Value = 283.35|279.59 ||| kay = Krakow ||| timestamp = 1590344378000\n",
      "Row: Value = 283.74|280.53 ||| kay = Łódź ||| timestamp = 1590344347000\n",
      "Row: Value = 285.25|282.73 ||| kay = Wrocław ||| timestamp = 1590344404000\n",
      "Row: Value = 286.52|283.69 ||| kay = Poznań ||| timestamp = 1590344459000\n",
      "Row: Value = 285.56|282.76 ||| kay = Gdańsk ||| timestamp = 1590344420000\n"
     ]
    }
   ],
   "source": [
    "import atexit\n",
    "from datetime import datetime, timedelta\n",
    "from kafka import KafkaProducer\n",
    "from time import sleep\n",
    "import requests\n",
    "\n",
    "citeUrls = ('http://api.openweathermap.org/data/2.5/weather?q=Warszawa&appid={your_api_key}', \\\n",
    "            'http://api.openweathermap.org/data/2.5/weather?q=Kraków&appid={your_api_key}', \\\n",
    "            'http://api.openweathermap.org/data/2.5/weather?id=3093133&appid={your_api_key}', \\\n",
    "            'http://api.openweathermap.org/data/2.5/weather?q=Wrocław&appid={your_api_key}', \\\n",
    "            'http://api.openweathermap.org/data/2.5/weather?q=Poznań&appid={your_api_key}', \\\n",
    "            'http://api.openweathermap.org/data/2.5/weather?q=Gdańsk&appid={your_api_key}', \\\n",
    "            'http://api.openweathermap.org/data/2.5/weather?q=Szczecin&appid={your_api_key}', \\\n",
    "            'http://api.openweathermap.org/data/2.5/weather?q=Bydgoszcz&appid={your_api_key}', \\\n",
    "            'http://api.openweathermap.org/data/2.5/weather?id=765876&appid={your_api_key}', \\\n",
    "            'http://api.openweathermap.org/data/2.5/weather?q=Białystok&appid={your_api_key}',)\n",
    "\n",
    "counter = 0\n",
    "\n",
    "producer = KafkaProducer(bootstrap_servers=('master','slave01'))\n",
    "\n",
    "while True:\n",
    "    index = counter % 10\n",
    "    url = citeUrls[index]\n",
    "    try:\n",
    "        data = requests.get(url).json()\n",
    "        city_name = data['name']\n",
    "        timestamp = data['dt']\n",
    "        ms_timestamp = int(round(timestamp * 1000))\n",
    "        main_obj = tuple(data['main'].values())\n",
    "        temp = main_obj[0]\n",
    "        feels_like = main_obj[1]\n",
    "\n",
    "        #Połączenie temperatury aktualnej z temperaturą odcz. \n",
    "        value = str(temp) + '|' + str(feels_like)\n",
    "\n",
    "        producer.send('final_open_weather_mw_v2', value.encode(), city_name.encode(), timestamp_ms=ms_timestamp)\n",
    "\n",
    "        print(f'Row: Value = {value} ||| kay = {city_name} ||| timestamp = {ms_timestamp}')\n",
    "    except Exception as e:\n",
    "        print(f'{e}, {data}')\n",
    "    \n",
    "    counter += 1\n",
    "    if 9 == index:\n",
    "        producer.flush()\n",
    "    \n",
    "    sleep(360)\n",
    "    \n",
    "\n",
    "#Debugowanie wystarczy umiescic pod koniec bloku TRY:     \n",
    "    #print(f'{ms_timestamp}')\n",
    "    #print(f'{type(ms_timestamp)}')\n",
    "    #print(f'{city_name}')\n",
    "    #print(f'{type(city_name)}')\n",
    "    #print(f'{temp}')\n",
    "    #print(f'{type(temp)}')\n",
    "    #print(f'{feels_like}')\n",
    "    #print(f'{type(feels_like)}')\n",
    "    #print(f'{value}')\n",
    "    #print(f'{type(value)}')\n",
    "\n"
   ]
  },
  {
   "cell_type": "code",
   "execution_count": null,
   "metadata": {},
   "outputs": [],
   "source": []
  },
  {
   "cell_type": "code",
   "execution_count": null,
   "metadata": {},
   "outputs": [],
   "source": []
  }
 ],
 "metadata": {
  "kernelspec": {
   "display_name": "[IPyKernel] Python 3.6",
   "language": "python",
   "name": "python3"
  },
  "language_info": {
   "codemirror_mode": {
    "name": "ipython",
    "version": 3
   },
   "file_extension": ".py",
   "mimetype": "text/x-python",
   "name": "python",
   "nbconvert_exporter": "python",
   "pygments_lexer": "ipython3",
   "version": "3.6.4"
  }
 },
 "nbformat": 4,
 "nbformat_minor": 2
}
